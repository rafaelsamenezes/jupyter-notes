{
 "metadata": {
  "language_info": {
   "codemirror_mode": {
    "name": "ipython",
    "version": 3
   },
   "file_extension": ".py",
   "mimetype": "text/x-python",
   "name": "python",
   "nbconvert_exporter": "python",
   "pygments_lexer": "ipython3",
   "version": "3.8.5"
  },
  "orig_nbformat": 4,
  "kernelspec": {
   "name": "python3",
   "display_name": "Python 3.8.5 64-bit"
  },
  "interpreter": {
   "hash": "31f2aee4e71d21fbe5cf8b01ff0e069b9275f58929596ceb00d14d90e3e16cd6"
  }
 },
 "nbformat": 4,
 "nbformat_minor": 2,
 "cells": [
  {
   "source": [
    "# Data Flow Introduction\n",
    "\n",
    "Data flow is a **static analysis** that looks over a program as a control flow graph, checking how a property (data) goes (flows) through a program. The technique is applied to optimize and reason a program, example:\n",
    "\n",
    "- Constant-propagation\n",
    "- Loop invariant\n",
    "- Common subexpression reduction\n",
    "- Number of registers needed\n",
    "\n",
    "This notebook will first present the background needed (graphs and CFG/ICFG) and will explain two examples, the first for Liveness and the second for Reachability."
   ],
   "cell_type": "markdown",
   "metadata": {}
  },
  {
   "source": [
    "## Graph\n",
    "\n",
    "In a nutshell, a graph is a data structure capable of modelling problems by conveerting it to entities (vertexes) and relations (edges). For example, a map can contain cities as vertexes and roads (edges) conecting them."
   ],
   "cell_type": "markdown",
   "metadata": {}
  },
  {
   "cell_type": "code",
   "execution_count": 7,
   "metadata": {},
   "outputs": [
    {
     "output_type": "stream",
     "name": "stdout",
     "text": [
      "[Boa Vista -> Manaus] is a path: True\n[Boa Vista -> Manaus] length: 740\n"
     ]
    }
   ],
   "source": [
    "from graph import *\n",
    "\n",
    "print(f'[Boa Vista -> Manaus] is a path: {has_path(city_graph(),\"Boa Vista\", \"Manaus\")}')\n",
    "print(f'[Boa Vista -> Manaus] length: {shortest_path_length(city_graph(),\"Boa Vista\", \"Manaus\")}')\n",
    "\n"
   ]
  },
  {
   "source": [
    "## Control Flow Graph\n",
    "\n",
    "It is a way to represent the flow of a program. Depending of the analysis type it can be used as a Basic Block, Functions, Modules and even at instruction level:\n",
    "\n",
    "```c\n",
    "int foo(int c) {             // F: foo, Module: test.c\n",
    "        int a = 0;           // B1        // 1\n",
    "        int b = 0;                        // 2\n",
    "    L1: \n",
    "        b = a + 1;                        // 3\n",
    "        c = c + b;           // B2        // 4\n",
    "        a = b * 2;                        // 5\n",
    "        if (a < 9)                        // 6\n",
    "\n",
    "            goto L1;         // B3\n",
    "\n",
    "        return c;            // B4        // 7\n",
    "}\n",
    "```\n",
    "Here are the CFGs for the Basic Block and Instruction Level \n",
    "\n",
    "<table>\n",
    "<tr>\n",
    "  <th>Instruction</th>\n",
    "  <th>Basic Block</th>\n",
    "</tr>\n",
    "<tr>\n",
    "  <th><img src=\"instr_cfg.png\" /></th>\n",
    "  <th><img src=\"bb_cfg.png\"/></th>\n",
    "</tr>\n",
    "</table>\n",
    "\n",
    "\n",
    "So, what if we want to know how many registers are needed for this program?\n",
    "\n",
    "- One for each variable?\n",
    "- Liveness Analysis for variables"
   ],
   "cell_type": "markdown",
   "metadata": {}
  },
  {
   "source": [
    "## Liveness Analysis\n",
    "\n",
    "A variable is considered **live** if its values is going to be used in the future, otherwise its considered **dead**. If two variables are not alive at the same time then they can share a register. For example, the program below only needs one register \n",
    "\n",
    "```\n",
    "int a = 0;            // r0 = 0\n",
    "int b = a + 2;        // r0 = r0 + 2;\n",
    "int c = b + 1;        // r0 = r0 + 1\n",
    "return c;             // r0\n",
    "```\n",
    "\n",
    "### More background...\n",
    "\n",
    "First we need to define some functions over a Graph and CFG:\n",
    "\n",
    "- $G$: Graphs<br>\n",
    "  $V$: Vertexes<br>\n",
    "  $L$: Labels/Strings\n",
    "\n",
    "- **pred** : $G \\rightarrow V \\rightarrow 2^V$ <br>\n",
    "  **pred(G, v)**: Returns every vertex that immediatly preceddes **v** \n",
    "\n",
    "- **succ** : $V \\rightarrow 2^V$ <br>\n",
    "  **succ(G, v)**: Returns every vertex that immediatly succedes **v** \n",
    "  \n",
    "- **gen** : $G \\rightarrow V \\rightarrow 2^L$ <br>\n",
    "  **gen(G, v)** : Returns every variable that is **generated** at vertex v. In liveness this mean when a variable is USED\n",
    "\n",
    "\n",
    "- **kill** : $G \\rightarrow V \\rightarrow 2^L$ <br>\n",
    "  **kill(G, v)** : Returns every variables that is **killed** at vertex v. Is liveness this means when a variable is DEFINED\n",
    "\n"
   ],
   "cell_type": "markdown",
   "metadata": {}
  },
  {
   "cell_type": "code",
   "execution_count": 8,
   "metadata": {},
   "outputs": [
    {
     "output_type": "stream",
     "name": "stdout",
     "text": [
      "Predecessors of 3 are: 2, 6\nSuccessors of 6 are: 7, 3\nVertex '2'' kills: b\nVertex '4'' gen: c, b\n"
     ]
    }
   ],
   "source": [
    "A = CFG()\n",
    "\n",
    "# Add node expects (id, [kill], [gen)\n",
    "A.add_node(1, [\"a\"], [])            # 1. a = 0\n",
    "A.add_node(2, [\"b\"], [])            # 2. b = 0\n",
    "A.add_node(3, [\"b\"], [\"a\"])         # 3. b = a + 1\n",
    "A.add_node(4, [\"c\"], [\"c\", \"b\"])    # 4. c = c + b\n",
    "A.add_node(5, [\"a\"], [\"b\"])         # 5. a = b * 2\n",
    "A.add_node(6, [], [\"a\"])            # 6. a < 9\n",
    "A.add_node(7, [], [\"c\"])            # 7. return c\n",
    "\n",
    "A.add_edges(\n",
    "    [(1,2), (2,3), (3,4), (4,5), (5,6), (6,7), (6,3)] # Same as above...\n",
    ")\n",
    "\n",
    "A.verbose = True\n",
    "# Examples\n",
    "A.pred(3)\n",
    "A.succ(6)\n",
    "A.kill(2)\n",
    "A.gen(4)\n",
    "\n",
    "A.verbose = False\n"
   ]
  },
  {
   "source": [
    "## Liveness of a variable:\n",
    "\n",
    "### Edges\n",
    "A variable X is considered alive if there exists a *directed path* in the graph if there exists a \n",
    "path from that edge to a use of X and that path does not goes through any definition\n",
    "\n",
    "\n",
    "### Nodes\n",
    "- **live-out**: if it is alive on any outter edges\n",
    "- **live-in**: if it is alive on any in edges\n",
    "\n",
    "### Computing Liveness (classic)\n",
    "\n",
    "1. If a variable is in (cfg, v), it is live-in at the vertex v\n",
    "2. If a variable is live-in at a vertex v, the it is live-out in all vertexes pred(cfg, v)\n",
    "3. If a variable is live-out at a vertex and not in def_vertex(cfg, v), then the variable is also live-in at v\n",
    "\n",
    "Dataflow-equations: \n",
    "- live_in(v) = gen(cfg,v) $\\cup$ (out_vertex(v) - kill(v)) \n",
    "- live-out(v) = $\\cup_{s \\in succ(cfg,v)}$ live-in(s)\n",
    "\n",
    "**Note:** liveness flows backwards.\n",
    "\n"
   ],
   "cell_type": "markdown",
   "metadata": {}
  },
  {
   "cell_type": "code",
   "execution_count": 9,
   "metadata": {
    "tags": []
   },
   "outputs": [
    {
     "output_type": "stream",
     "name": "stdout",
     "text": [
      "Found solution at iteration: 8\nLive-in: {1: {'c'}, 2: {'a', 'c'}, 3: {'a', 'c'}, 4: {'b', 'c'}, 5: {'b', 'c'}, 6: {'a', 'c'}, 7: {'c'}}\nLive-out {1: {'a', 'c'}, 2: {'a', 'c'}, 3: {'b', 'c'}, 4: {'b', 'c'}, 5: {'a', 'c'}, 6: {'a', 'c'}, 7: set()}\n"
     ]
    },
    {
     "output_type": "execute_result",
     "data": {
      "text/plain": [
       "({1: {'c'},\n",
       "  2: {'a', 'c'},\n",
       "  3: {'a', 'c'},\n",
       "  4: {'b', 'c'},\n",
       "  5: {'b', 'c'},\n",
       "  6: {'a', 'c'},\n",
       "  7: {'c'}},\n",
       " {1: {'a', 'c'},\n",
       "  2: {'a', 'c'},\n",
       "  3: {'b', 'c'},\n",
       "  4: {'b', 'c'},\n",
       "  5: {'a', 'c'},\n",
       "  6: {'a', 'c'},\n",
       "  7: set()})"
      ]
     },
     "metadata": {},
     "execution_count": 9
    }
   ],
   "source": [
    "import pandas as pd # For printing the matrix\n",
    "\n",
    "def compute_backwards(cfg: CFG, max_iter = 15, reverse=False):\n",
    "    live_in = dict()\n",
    "    live_out = dict()\n",
    "    \n",
    "    for v in cfg.G.nodes: # INITIALIZE SOLUTIONS\n",
    "        live_in[v] = set() # empty set\n",
    "        live_out[v] = set() # empty set\n",
    "\n",
    "    iteraction = 1\n",
    "    converged = False # THE SOLUTION WAS NOT FOUND YET    \n",
    "    while not converged:\n",
    "        converged = True # hope for the best...\n",
    "        vertex_iterator = list(cfg.G.nodes) if not reverse else reversed(list(cfg.G.nodes))\n",
    "\n",
    "        for v in vertex_iterator: # for all vertexes v in G\n",
    "            old_live_in = set(live_in[v])     # Copy\n",
    "            old_live_out = set(live_out[v])   # Copy\n",
    "\n",
    "            # Compute live_in[v]\n",
    "            live_in[v] = set(cfg.gen(v))\n",
    "            for x in live_out[v].difference(cfg.kill(v)):\n",
    "                live_in[v].add(x)\n",
    "            \n",
    "            # Compute live_out[v]\n",
    "            for s in cfg.succ(v):\n",
    "                for x in live_in[s]:\n",
    "                    live_out[v].add(x)\n",
    "\n",
    "            # Did it converge?\n",
    "            not_in_old_in = live_in[v].difference(old_live_in)\n",
    "            not_in_old_out = live_out[v].difference(old_live_out)        \n",
    "            if (len(not_in_old_in) > 0) or (len(not_in_old_out) > 0):\n",
    "                converged = False # Solution was not found yet...\n",
    "        # What if this never coverges?\n",
    "        if iteraction > max_iter:\n",
    "            print(\"Giving up...\")\n",
    "            return\n",
    "\n",
    "        # Try one more time...\n",
    "        iteraction = iteraction + 1\n",
    "    print(f\"Found solution at iteration: {iteraction-1}\")\n",
    "    print(f\"Live-in: {live_in}\")\n",
    "    print(f\"Live-out {live_out}\")        \n",
    "    return live_in, live_out\n",
    "\n",
    "compute_backwards(A, 10, reverse=False)"
   ]
  }
 ]
}